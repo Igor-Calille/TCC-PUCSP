{
 "cells": [
  {
   "cell_type": "code",
   "execution_count": 67,
   "metadata": {},
   "outputs": [
    {
     "name": "stdout",
     "output_type": "stream",
     "text": [
      "Requirement already satisfied: xgboost in c:\\users\\igorm\\appdata\\local\\programs\\python\\python312\\lib\\site-packages (2.0.3)Note: you may need to restart the kernel to use updated packages.\n",
      "\n",
      "Requirement already satisfied: numpy in c:\\users\\igorm\\appdata\\local\\programs\\python\\python312\\lib\\site-packages (from xgboost) (1.26.2)\n",
      "Requirement already satisfied: scipy in c:\\users\\igorm\\appdata\\local\\programs\\python\\python312\\lib\\site-packages (from xgboost) (1.11.4)\n"
     ]
    },
    {
     "name": "stderr",
     "output_type": "stream",
     "text": [
      "\n",
      "[notice] A new release of pip is available: 23.2.1 -> 24.0\n",
      "[notice] To update, run: python.exe -m pip install --upgrade pip\n"
     ]
    }
   ],
   "source": [
    "import pandas as pd\n",
    "%pip install xgboost\n",
    "import xgboost as xb \n",
    "import matplotlib.pyplot as plt"
   ]
  },
  {
   "cell_type": "code",
   "execution_count": 68,
   "metadata": {},
   "outputs": [
    {
     "data": {
      "text/html": [
       "<div>\n",
       "<style scoped>\n",
       "    .dataframe tbody tr th:only-of-type {\n",
       "        vertical-align: middle;\n",
       "    }\n",
       "\n",
       "    .dataframe tbody tr th {\n",
       "        vertical-align: top;\n",
       "    }\n",
       "\n",
       "    .dataframe thead th {\n",
       "        text-align: right;\n",
       "    }\n",
       "</style>\n",
       "<table border=\"1\" class=\"dataframe\">\n",
       "  <thead>\n",
       "    <tr style=\"text-align: right;\">\n",
       "      <th></th>\n",
       "      <th>date</th>\n",
       "      <th>open</th>\n",
       "      <th>high</th>\n",
       "      <th>low</th>\n",
       "      <th>close</th>\n",
       "      <th>volume</th>\n",
       "      <th>Name</th>\n",
       "    </tr>\n",
       "  </thead>\n",
       "  <tbody>\n",
       "    <tr>\n",
       "      <th>0</th>\n",
       "      <td>2013-02-08</td>\n",
       "      <td>15.07</td>\n",
       "      <td>15.12</td>\n",
       "      <td>14.63</td>\n",
       "      <td>14.75</td>\n",
       "      <td>8407500</td>\n",
       "      <td>AAL</td>\n",
       "    </tr>\n",
       "    <tr>\n",
       "      <th>1</th>\n",
       "      <td>2013-02-11</td>\n",
       "      <td>14.89</td>\n",
       "      <td>15.01</td>\n",
       "      <td>14.26</td>\n",
       "      <td>14.46</td>\n",
       "      <td>8882000</td>\n",
       "      <td>AAL</td>\n",
       "    </tr>\n",
       "    <tr>\n",
       "      <th>2</th>\n",
       "      <td>2013-02-12</td>\n",
       "      <td>14.45</td>\n",
       "      <td>14.51</td>\n",
       "      <td>14.10</td>\n",
       "      <td>14.27</td>\n",
       "      <td>8126000</td>\n",
       "      <td>AAL</td>\n",
       "    </tr>\n",
       "    <tr>\n",
       "      <th>3</th>\n",
       "      <td>2013-02-13</td>\n",
       "      <td>14.30</td>\n",
       "      <td>14.94</td>\n",
       "      <td>14.25</td>\n",
       "      <td>14.66</td>\n",
       "      <td>10259500</td>\n",
       "      <td>AAL</td>\n",
       "    </tr>\n",
       "    <tr>\n",
       "      <th>4</th>\n",
       "      <td>2013-02-14</td>\n",
       "      <td>14.94</td>\n",
       "      <td>14.96</td>\n",
       "      <td>13.16</td>\n",
       "      <td>13.99</td>\n",
       "      <td>31879900</td>\n",
       "      <td>AAL</td>\n",
       "    </tr>\n",
       "  </tbody>\n",
       "</table>\n",
       "</div>"
      ],
      "text/plain": [
       "         date   open   high    low  close    volume Name\n",
       "0  2013-02-08  15.07  15.12  14.63  14.75   8407500  AAL\n",
       "1  2013-02-11  14.89  15.01  14.26  14.46   8882000  AAL\n",
       "2  2013-02-12  14.45  14.51  14.10  14.27   8126000  AAL\n",
       "3  2013-02-13  14.30  14.94  14.25  14.66  10259500  AAL\n",
       "4  2013-02-14  14.94  14.96  13.16  13.99  31879900  AAL"
      ]
     },
     "execution_count": 68,
     "metadata": {},
     "output_type": "execute_result"
    }
   ],
   "source": [
    "#Dando load no dado S&P 500 encontrado nesse link:\n",
    "data = pd.read_csv('Data//all_stocks_5yr.csv')\n",
    "data.head()\n"
   ]
  },
  {
   "cell_type": "code",
   "execution_count": 69,
   "metadata": {},
   "outputs": [
    {
     "data": {
      "text/html": [
       "<div>\n",
       "<style scoped>\n",
       "    .dataframe tbody tr th:only-of-type {\n",
       "        vertical-align: middle;\n",
       "    }\n",
       "\n",
       "    .dataframe tbody tr th {\n",
       "        vertical-align: top;\n",
       "    }\n",
       "\n",
       "    .dataframe thead th {\n",
       "        text-align: right;\n",
       "    }\n",
       "</style>\n",
       "<table border=\"1\" class=\"dataframe\">\n",
       "  <thead>\n",
       "    <tr style=\"text-align: right;\">\n",
       "      <th></th>\n",
       "      <th>open</th>\n",
       "      <th>high</th>\n",
       "      <th>low</th>\n",
       "      <th>close</th>\n",
       "      <th>volume</th>\n",
       "    </tr>\n",
       "  </thead>\n",
       "  <tbody>\n",
       "    <tr>\n",
       "      <th>count</th>\n",
       "      <td>619029.000000</td>\n",
       "      <td>619032.000000</td>\n",
       "      <td>619032.000000</td>\n",
       "      <td>619040.000000</td>\n",
       "      <td>6.190400e+05</td>\n",
       "    </tr>\n",
       "    <tr>\n",
       "      <th>mean</th>\n",
       "      <td>83.023334</td>\n",
       "      <td>83.778311</td>\n",
       "      <td>82.256096</td>\n",
       "      <td>83.043763</td>\n",
       "      <td>4.321823e+06</td>\n",
       "    </tr>\n",
       "    <tr>\n",
       "      <th>std</th>\n",
       "      <td>97.378769</td>\n",
       "      <td>98.207519</td>\n",
       "      <td>96.507421</td>\n",
       "      <td>97.389748</td>\n",
       "      <td>8.693610e+06</td>\n",
       "    </tr>\n",
       "    <tr>\n",
       "      <th>min</th>\n",
       "      <td>1.620000</td>\n",
       "      <td>1.690000</td>\n",
       "      <td>1.500000</td>\n",
       "      <td>1.590000</td>\n",
       "      <td>0.000000e+00</td>\n",
       "    </tr>\n",
       "    <tr>\n",
       "      <th>25%</th>\n",
       "      <td>40.220000</td>\n",
       "      <td>40.620000</td>\n",
       "      <td>39.830000</td>\n",
       "      <td>40.245000</td>\n",
       "      <td>1.070320e+06</td>\n",
       "    </tr>\n",
       "    <tr>\n",
       "      <th>50%</th>\n",
       "      <td>62.590000</td>\n",
       "      <td>63.150000</td>\n",
       "      <td>62.020000</td>\n",
       "      <td>62.620000</td>\n",
       "      <td>2.082094e+06</td>\n",
       "    </tr>\n",
       "    <tr>\n",
       "      <th>75%</th>\n",
       "      <td>94.370000</td>\n",
       "      <td>95.180000</td>\n",
       "      <td>93.540000</td>\n",
       "      <td>94.410000</td>\n",
       "      <td>4.284509e+06</td>\n",
       "    </tr>\n",
       "    <tr>\n",
       "      <th>max</th>\n",
       "      <td>2044.000000</td>\n",
       "      <td>2067.990000</td>\n",
       "      <td>2035.110000</td>\n",
       "      <td>2049.000000</td>\n",
       "      <td>6.182376e+08</td>\n",
       "    </tr>\n",
       "  </tbody>\n",
       "</table>\n",
       "</div>"
      ],
      "text/plain": [
       "                open           high            low          close  \\\n",
       "count  619029.000000  619032.000000  619032.000000  619040.000000   \n",
       "mean       83.023334      83.778311      82.256096      83.043763   \n",
       "std        97.378769      98.207519      96.507421      97.389748   \n",
       "min         1.620000       1.690000       1.500000       1.590000   \n",
       "25%        40.220000      40.620000      39.830000      40.245000   \n",
       "50%        62.590000      63.150000      62.020000      62.620000   \n",
       "75%        94.370000      95.180000      93.540000      94.410000   \n",
       "max      2044.000000    2067.990000    2035.110000    2049.000000   \n",
       "\n",
       "             volume  \n",
       "count  6.190400e+05  \n",
       "mean   4.321823e+06  \n",
       "std    8.693610e+06  \n",
       "min    0.000000e+00  \n",
       "25%    1.070320e+06  \n",
       "50%    2.082094e+06  \n",
       "75%    4.284509e+06  \n",
       "max    6.182376e+08  "
      ]
     },
     "execution_count": 69,
     "metadata": {},
     "output_type": "execute_result"
    }
   ],
   "source": [
    "data.describe()"
   ]
  },
  {
   "cell_type": "code",
   "execution_count": 70,
   "metadata": {},
   "outputs": [
    {
     "data": {
      "text/html": [
       "<div>\n",
       "<style scoped>\n",
       "    .dataframe tbody tr th:only-of-type {\n",
       "        vertical-align: middle;\n",
       "    }\n",
       "\n",
       "    .dataframe tbody tr th {\n",
       "        vertical-align: top;\n",
       "    }\n",
       "\n",
       "    .dataframe thead th {\n",
       "        text-align: right;\n",
       "    }\n",
       "</style>\n",
       "<table border=\"1\" class=\"dataframe\">\n",
       "  <thead>\n",
       "    <tr style=\"text-align: right;\">\n",
       "      <th></th>\n",
       "      <th>open</th>\n",
       "      <th>high</th>\n",
       "      <th>low</th>\n",
       "      <th>close</th>\n",
       "      <th>volume</th>\n",
       "    </tr>\n",
       "  </thead>\n",
       "  <tbody>\n",
       "    <tr>\n",
       "      <th>count</th>\n",
       "      <td>1259.000000</td>\n",
       "      <td>1259.000000</td>\n",
       "      <td>1259.000000</td>\n",
       "      <td>1259.000000</td>\n",
       "      <td>1.259000e+03</td>\n",
       "    </tr>\n",
       "    <tr>\n",
       "      <th>mean</th>\n",
       "      <td>576.867264</td>\n",
       "      <td>582.017221</td>\n",
       "      <td>571.113517</td>\n",
       "      <td>576.880041</td>\n",
       "      <td>3.730465e+06</td>\n",
       "    </tr>\n",
       "    <tr>\n",
       "      <th>std</th>\n",
       "      <td>282.500019</td>\n",
       "      <td>284.417123</td>\n",
       "      <td>280.215237</td>\n",
       "      <td>282.500395</td>\n",
       "      <td>2.166506e+06</td>\n",
       "    </tr>\n",
       "    <tr>\n",
       "      <th>min</th>\n",
       "      <td>248.940000</td>\n",
       "      <td>252.930000</td>\n",
       "      <td>245.750000</td>\n",
       "      <td>248.230000</td>\n",
       "      <td>1.092970e+06</td>\n",
       "    </tr>\n",
       "    <tr>\n",
       "      <th>25%</th>\n",
       "      <td>325.870000</td>\n",
       "      <td>329.485000</td>\n",
       "      <td>322.185000</td>\n",
       "      <td>325.800000</td>\n",
       "      <td>2.511165e+06</td>\n",
       "    </tr>\n",
       "    <tr>\n",
       "      <th>50%</th>\n",
       "      <td>506.000000</td>\n",
       "      <td>512.330000</td>\n",
       "      <td>495.640000</td>\n",
       "      <td>503.820000</td>\n",
       "      <td>3.144719e+06</td>\n",
       "    </tr>\n",
       "    <tr>\n",
       "      <th>75%</th>\n",
       "      <td>777.620000</td>\n",
       "      <td>781.845000</td>\n",
       "      <td>770.720000</td>\n",
       "      <td>777.420000</td>\n",
       "      <td>4.220246e+06</td>\n",
       "    </tr>\n",
       "    <tr>\n",
       "      <th>max</th>\n",
       "      <td>1477.390000</td>\n",
       "      <td>1498.000000</td>\n",
       "      <td>1450.040000</td>\n",
       "      <td>1450.890000</td>\n",
       "      <td>2.385606e+07</td>\n",
       "    </tr>\n",
       "  </tbody>\n",
       "</table>\n",
       "</div>"
      ],
      "text/plain": [
       "              open         high          low        close        volume\n",
       "count  1259.000000  1259.000000  1259.000000  1259.000000  1.259000e+03\n",
       "mean    576.867264   582.017221   571.113517   576.880041  3.730465e+06\n",
       "std     282.500019   284.417123   280.215237   282.500395  2.166506e+06\n",
       "min     248.940000   252.930000   245.750000   248.230000  1.092970e+06\n",
       "25%     325.870000   329.485000   322.185000   325.800000  2.511165e+06\n",
       "50%     506.000000   512.330000   495.640000   503.820000  3.144719e+06\n",
       "75%     777.620000   781.845000   770.720000   777.420000  4.220246e+06\n",
       "max    1477.390000  1498.000000  1450.040000  1450.890000  2.385606e+07"
      ]
     },
     "execution_count": 70,
     "metadata": {},
     "output_type": "execute_result"
    }
   ],
   "source": [
    "#Apenas vou selecionar os stocks da Amazon nesse modelo\n",
    "AMZN = data.loc[data['Name']=='AMZN']\n",
    "AMZN.describe()"
   ]
  },
  {
   "cell_type": "code",
   "execution_count": 71,
   "metadata": {},
   "outputs": [
    {
     "data": {
      "text/plain": [
       "<Axes: >"
      ]
     },
     "execution_count": 71,
     "metadata": {},
     "output_type": "execute_result"
    },
    {
     "data": {
      "image/png": "[encoded data removed]",
      "text/plain": [
       "<Figure size 640x480 with 1 Axes>"
      ]
     },
     "metadata": {},
     "output_type": "display_data"
    }
   ],
   "source": [
    "#Analisando a database da Amazon\n",
    "\n",
    "AMZN['close'].plot()\n"
   ]
  },
  {
   "cell_type": "code",
   "execution_count": 72,
   "metadata": {},
   "outputs": [],
   "source": [
    "#Separar os dados entre testing e training\n",
    "training_data = AMZN.iloc[:int(.80*len(AMZN)), :]\n",
    "testing_data = AMZN.iloc[int(.80*len(AMZN)):, :]"
   ]
  },
  {
   "cell_type": "code",
   "execution_count": 73,
   "metadata": {},
   "outputs": [],
   "source": [
    "#Definir as variaveis \n",
    "_features = ['open', 'volume']\n",
    "#Variavel target (O que queremos prever)\n",
    "_target = 'close'"
   ]
  },
  {
   "cell_type": "code",
   "execution_count": 74,
   "metadata": {},
   "outputs": [
    {
     "name": "stdout",
     "output_type": "stream",
     "text": [
      "Predictions:\n",
      "[814.453   813.3126  821.62555 832.9843  841.1068  826.69916 837.12555\n",
      " 832.2963  832.6768  840.598   836.89685 833.0179  837.12555 839.02405\n",
      " 838.2569  839.69403 840.761   840.598   839.54474 839.6363  840.7831\n",
      " 840.0566  841.1884  839.69403 839.1406  841.30334 832.8794  839.6363\n",
      " 838.5612  840.06213 840.761   839.87976 840.33966 833.1671  839.1089\n",
      " 838.2569  828.0316  834.5887  825.6413  834.88104 828.4371  833.0179\n",
      " 834.247   833.5119  839.34796 836.4105  836.02576 832.7571  836.2786\n",
      " 836.37225 839.02484 829.34283 832.8794  840.598   824.5973  834.38153\n",
      " 833.8697  833.14386 831.1526  839.02484 836.2786  835.12683 835.81256\n",
      " 841.20447 839.62396 832.4677  837.8809  832.28436 822.427   828.0316\n",
      " 828.0316  841.2083  839.02484 839.34796 839.6729  836.89685 835.81256\n",
      " 824.5158  839.34796 832.2602  837.12555 833.4556  836.68054 838.2569\n",
      " 833.1778  832.71954 836.401   828.0316  833.5009  833.711   825.6413\n",
      " 839.54016 837.7949  839.54474 836.2786  834.4786  831.99927 835.424\n",
      " 840.0467  834.4786  835.5354  832.64087 835.81256 841.2083  831.1526\n",
      " 833.20386 832.4677  836.2786  841.20447 833.0179  837.8338  832.7256\n",
      " 832.2963  834.4223  835.00085 840.0566  837.7949  833.711   833.1778\n",
      " 834.38153 840.4542  839.54016 834.0691  834.4223  840.11395 835.5354\n",
      " 831.1526  831.7326  836.89685 836.4105  839.1406  832.28436 832.6768\n",
      " 835.00085 836.19415 838.2569  839.7864  821.85046 835.00085 840.598\n",
      " 836.2786  835.5354  833.4556  836.98126 833.20386 839.69403 839.1406\n",
      " 840.598   839.62396 839.34796 832.8794  824.5158  832.2602  835.12683\n",
      " 839.7864  836.2786  839.84283 841.2083  822.427   831.1526  833.13965\n",
      " 836.98126 839.1406  840.0566  839.7864  836.98126 834.22    831.99927\n",
      " 834.119   832.0654  839.84283 839.93243 840.0566  840.7831  839.84283\n",
      " 839.34796 832.2963  839.84283 832.6768  834.4223  833.1671  833.37085\n",
      " 833.9192  838.39624 832.6768  832.2602  832.2383  832.2602  832.8794\n",
      " 841.9426  840.598   833.0179  839.62396 835.5354  833.13965 828.0316\n",
      " 839.62396 839.02484 839.87976 839.34796 831.1526  828.93134 831.15546\n",
      " 836.401   832.71954 837.6657  837.2271  829.9112  839.54016 836.02576\n",
      " 836.98126 834.3751  839.84283 839.62396 840.598   833.9705  836.0521\n",
      " 833.9339  840.598   839.84283 839.69403 841.9619  840.7831  840.94696\n",
      " 841.30334 841.9426  838.6258  832.2963  833.5119  831.1526  840.8096\n",
      " 832.64087 841.9426  832.28436 833.8697  830.59174 821.85046 837.8338\n",
      " 836.401   837.2271  822.427   831.2064  836.0521  839.6729  831.7326\n",
      " 834.29535 835.42975 832.71954 833.711   833.711   833.711   830.59174]\n"
     ]
    }
   ],
   "source": [
    "#Criar o modelo de ML e fazer a previsão\n",
    "model = xb.XGBRegressor()\n",
    "model.fit(training_data[_features], training_data[_target])\n",
    "\n",
    "predictions = model.predict(testing_data[_features])\n",
    "print(\"Predictions:\")\n",
    "print(predictions)\n"
   ]
  },
  {
   "cell_type": "code",
   "execution_count": 75,
   "metadata": {},
   "outputs": [
    {
     "name": "stdout",
     "output_type": "stream",
     "text": [
      "valores reais:\n",
      "47394     819.71\n",
      "47395     821.36\n",
      "47396     827.46\n",
      "47397     836.53\n",
      "47398     836.39\n",
      "          ...   \n",
      "47641    1390.00\n",
      "47642    1429.95\n",
      "47643    1390.00\n",
      "47644    1442.84\n",
      "47645    1416.78\n",
      "Name: close, Length: 252, dtype: float64\n"
     ]
    }
   ],
   "source": [
    "#\n",
    "print(\"valores reais:\")\n",
    "print(testing_data[_target])"
   ]
  },
  {
   "cell_type": "code",
   "execution_count": 76,
   "metadata": {},
   "outputs": [
    {
     "name": "stdout",
     "output_type": "stream",
     "text": [
      "Accuracy\n",
      "-1.7222378210028624\n"
     ]
    }
   ],
   "source": [
    "#Mostrar a precisão do modelo\n",
    "accuracy = model.score(testing_data[_features], testing_data[_target])\n",
    "print(\"Accuracy\")\n",
    "print(accuracy)"
   ]
  },
  {
   "cell_type": "code",
   "execution_count": 77,
   "metadata": {},
   "outputs": [
    {
     "data": {
      "image/png": "[encoded data removed]",
      "text/plain": [
       "<Figure size 640x480 with 1 Axes>"
      ]
     },
     "metadata": {},
     "output_type": "display_data"
    }
   ],
   "source": [
    "#Fazero o plot do close + previsoes\n",
    "plt.plot(AMZN['close'], label='Close')\n",
    "plt.plot(testing_data[_target].index, predictions, color='r', label='Predicted')\n",
    "plt.legend()\n",
    "plt.show()\n",
    "    "
   ]
  }
 ],
 "metadata": {
  "kernelspec": {
   "display_name": "Python 3",
   "language": "python",
   "name": "python3"
  },
  "language_info": {
   "codemirror_mode": {
    "name": "ipython",
    "version": 3
   },
   "file_extension": ".py",
   "mimetype": "text/x-python",
   "name": "python",
   "nbconvert_exporter": "python",
   "pygments_lexer": "ipython3",
   "version": "3.12.0"
  }
 },
 "nbformat": 4,
 "nbformat_minor": 2
}
