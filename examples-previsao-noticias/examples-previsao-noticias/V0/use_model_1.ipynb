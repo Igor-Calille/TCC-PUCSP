{
 "cells": [
  {
   "cell_type": "code",
   "execution_count": 3,
   "metadata": {},
   "outputs": [
    {
     "name": "stdout",
     "output_type": "stream",
     "text": [
      "GPU disponivel\n",
      "Número de GPUs disponíveis: 1\n",
      "Nome da GPU: NVIDIA GeForce RTX 2070\n"
     ]
    }
   ],
   "source": [
    "\n",
    "import torch\n",
    "if torch.cuda.is_available():\n",
    "    device = torch.device(\"cuda\")\n",
    "    print('GPU disponivel')\n",
    "    print('Número de GPUs disponíveis:', torch.cuda.device_count())\n",
    "    print('Nome da GPU:', torch.cuda.get_device_name(0))\n",
    "\n",
    "else:\n",
    "    device = torch.device('cpu')\n",
    "    print('GPU nao disponivel, utilizando CPU')"
   ]
  },
  {
   "cell_type": "code",
   "execution_count": 7,
   "metadata": {},
   "outputs": [
    {
     "name": "stderr",
     "output_type": "stream",
     "text": [
      "Asking to truncate to max_length but no maximum length is provided and the model has no predefined maximum length. Default to no truncation.\n"
     ]
    },
    {
     "name": "stdout",
     "output_type": "stream",
     "text": [
      "negative\n"
     ]
    }
   ],
   "source": [
    "import torch\n",
    "from transformers import AutoTokenizer, AutoModelForSequenceClassification\n",
    "# Carregar o modelo e o tokenizador\n",
    "model_name = 'mrm8488/deberta-v3-ft-financial-news-sentiment-analysis'\n",
    "tokenizer = AutoTokenizer.from_pretrained(model_name)\n",
    "model = AutoModelForSequenceClassification.from_pretrained(\"./results_model/_model\")\n",
    "\n",
    "# Certifique-se de que o modelo esteja na GPU\n",
    "model.to(device)\n",
    "\n",
    "def generate_output(input_text):\n",
    "    inputs = tokenizer(input_text, return_tensors='pt', truncation=True, padding=True).to(device)\n",
    "\n",
    "    with torch.no_grad():\n",
    "        outputs = model(**inputs)\n",
    "\n",
    "    logits = outputs.logits\n",
    "    predicted_class = torch.argmax(logits, dim=1).item()\n",
    "\n",
    "    # Mapear o índice da classe para o rótulo correspondente\n",
    "    label_map = {0: \"negative\", 1: \"neutral\", 2: \"positive\"}\n",
    "    return label_map[predicted_class]\n",
    "\n",
    "\n",
    "# Exemplo de uso da função\n",
    "input_text = \"Empresas do Ibovespa perderam R$ 660 bilhões em três anos\"\n",
    "output = generate_output(input_text)\n",
    "print(output)"
   ]
  }
 ],
 "metadata": {
  "kernelspec": {
   "display_name": "Python 3",
   "language": "python",
   "name": "python3"
  },
  "language_info": {
   "codemirror_mode": {
    "name": "ipython",
    "version": 3
   },
   "file_extension": ".py",
   "mimetype": "text/x-python",
   "name": "python",
   "nbconvert_exporter": "python",
   "pygments_lexer": "ipython3",
   "version": "3.11.0"
  }
 },
 "nbformat": 4,
 "nbformat_minor": 2
}
