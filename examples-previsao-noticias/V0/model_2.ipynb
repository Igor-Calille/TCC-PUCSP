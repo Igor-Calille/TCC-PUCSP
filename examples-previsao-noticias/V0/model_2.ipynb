{
 "cells": [
  {
   "cell_type": "code",
   "execution_count": 4,
   "metadata": {},
   "outputs": [],
   "source": [
    "from transformers import AutoTokenizer, AutoModelForSequenceClassification\n",
    "import torch \n",
    "import pandas as pd\n",
    "from sklearn.model_selection import train_test_split\n",
    "import re"
   ]
  },
  {
   "cell_type": "code",
   "execution_count": 18,
   "metadata": {},
   "outputs": [],
   "source": [
    "data_bancodobrasil = pd.read_json(\"data/banco_brasil.json\")\n",
    "data_bancodobrasil_con = pd.DataFrame({'texto': data_bancodobrasil[\"title\"] + \" \" + data_bancodobrasil[\"description\"]})\n",
    "\n",
    "data_magalu = pd.read_json(\"data/magazineluiza.json\")\n",
    "data_magalu_con = pd.DataFrame({'texto': data_magalu[\"title\"] + \" \" + data_magalu[\"description\"]})\n",
    "\n",
    "\n",
    "data_mglu3 = pd.read_json(\"data/mglu3.json\")\n",
    "data_mglu3_con = pd.DataFrame({'texto': data_mglu3[\"title\"] + \" \" + data_mglu3[\"description\"]})\n",
    "\n",
    "\n",
    "data_varejo = pd.read_json(\"data/varejo.json\")\n",
    "data_varejo_con = pd.DataFrame({'texto': data_varejo[\"title\"] + \" \" + data_varejo[\"description\"]})\n",
    "\n",
    "data_petro = pd.read_json('data/Petrobras_noticias.json')\n",
    "data_petro_con = pd.DataFrame({'texto': data_petro[\"title\"] + \" \" + data_petro[\"description\"]})\n",
    "\n",
    "\n",
    "data = pd.merge(data_bancodobrasil_con, data_magalu_con, on='texto', how='outer').merge(data_mglu3_con, on='texto', how='outer').merge(data_varejo_con, on='texto', how='outer').merge(data_petro_con, on='texto', how='outer')\n",
    "data['texto'] = data['texto'].str.replace('\\n', '')\n",
    "data['texto'] = data['texto'].str.replace('\\t', '')\n",
    "data['texto'] = data['texto'].str.replace('\"', '')\n",
    "data['texto'] = data['texto'].str.replace(\"'\", '')\n",
    "data['texto'] = data['texto'].str.replace('/', '')\n",
    "\n",
    "\n",
    "\n"
   ]
  },
  {
   "cell_type": "code",
   "execution_count": 19,
   "metadata": {},
   "outputs": [],
   "source": [
    "tokenizer = AutoTokenizer.from_pretrained(\"mrm8488/deberta-v3-ft-financial-news-sentiment-analysis\")\n",
    "model = AutoModelForSequenceClassification.from_pretrained(\"mrm8488/deberta-v3-ft-financial-news-sentiment-analysis\")\n",
    "\n"
   ]
  },
  {
   "cell_type": "code",
   "execution_count": 20,
   "metadata": {},
   "outputs": [],
   "source": [
    "def predict_sentiment(text):\n",
    "    inputs = tokenizer(text, return_tensors='pt', padding=True, truncation=True, max_length=512)\n",
    "    outputs = model(**inputs)\n",
    "    logits = outputs.logits\n",
    "    probabilities = torch.nn.functional.softmax(logits, dim=1)\n",
    "    predicted_class = torch.argmax(probabilities, dim=1).item()\n",
    "    return predicted_class, probabilities\n"
   ]
  },
  {
   "cell_type": "code",
   "execution_count": 22,
   "metadata": {},
   "outputs": [],
   "source": [
    "data['sentiment'] = data['texto'].apply(lambda x: predict_sentiment(x)[0])\n",
    "data['probabilities'] = data['texto'].apply(lambda x: predict_sentiment(x)[1].tolist())\n",
    "\n",
    "data.to_csv('output_deberta.csv')"
   ]
  }
 ],
 "metadata": {
  "kernelspec": {
   "display_name": "Python 3",
   "language": "python",
   "name": "python3"
  },
  "language_info": {
   "codemirror_mode": {
    "name": "ipython",
    "version": 3
   },
   "file_extension": ".py",
   "mimetype": "text/x-python",
   "name": "python",
   "nbconvert_exporter": "python",
   "pygments_lexer": "ipython3",
   "version": "3.11.0"
  }
 },
 "nbformat": 4,
 "nbformat_minor": 2
}
